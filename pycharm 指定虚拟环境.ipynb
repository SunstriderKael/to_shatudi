{
 "cells": [
  {
   "cell_type": "markdown",
   "metadata": {},
   "source": [
    "## 虚拟环境virtualenv的创建\n",
    "详情见教程 https://www.liaoxuefeng.com/wiki/1016959663602400/1019273143120480\n",
    "### 安装virtualenv\n",
    "打开黑窗口,输入下面命令完成安装"
   ]
  },
  {
   "cell_type": "raw",
   "metadata": {},
   "source": [
    "pip install virtualenv\n",
    "或者\n",
    "pip3 install virtualenv"
   ]
  },
  {
   "cell_type": "markdown",
   "metadata": {},
   "source": [
    "### 安装gitbash\n",
    "#### \n",
    "下载地址： https://gitforwindows.org/\n",
    "\n",
    "<img src=\"1.png\">\n",
    "\n",
    "安装教程自行百度。"
   ]
  },
  {
   "cell_type": "markdown",
   "metadata": {},
   "source": [
    "创建虚拟环境\n",
    "创建任意文件夹，文件夹名称只能包含字母和数字；单机鼠标右键，点击gitbash here;\n",
    "\n",
    "<img src=\"2.png\">\n",
    "\n"
   ]
  },
  {
   "cell_type": "markdown",
   "metadata": {
    "collapsed": true
   },
   "source": [
    "输入 virtualenv venv 创建名称为venv的虚拟环境；创建成功之后会发现该路径下多了一个venv文件夹，点ok。\n",
    "\n",
    "<img src=\"3.png\">\n",
    "\n",
    "### pycharm 导入虚拟环境\n",
    "打开pycharm 点击file>open 选定包含venv的文件夹；\n",
    "<img src=\"4.png\">\n",
    "<img src=\"5.png\">\n",
    "\n",
    "此时，pycharm成功导入刚刚创建的虚拟环境，前提是刚刚的虚拟环境名称为venv；\n",
    "\n",
    "若需要导入其他环境，可点击file>settings，可见如下窗口，以此点击Project：to_shatudi，python interpreter, 齿轮，点击齿轮后选择add； \n",
    "\n",
    "<img src=\"6.png\">\n",
    "\n",
    "勾选existing environment, 点击... 找到venv/Scripts/下的python.exe,点击ok。此时pycharm会导入该虚拟环境。\n",
    "\n",
    "<img src=\"7.png\">\n",
    "\n",
    "### 第一行代码\n",
    "鼠标移至项目名称处，点击右键，new，python file，创建python脚本；命名可随意取，但名称只能包含字母与数字还有下划线；\n",
    "\n",
    "<img src=\"8.png\">\n",
    "\n",
    "在脚本中输入以下内容："
   ]
  },
  {
   "cell_type": "raw",
   "metadata": {},
   "source": [
    "if __name__ == '__main__':\n",
    "    print('hello sha tu di')\n"
   ]
  },
  {
   "cell_type": "markdown",
   "metadata": {},
   "source": [
    "鼠标移至书写代码的区域，右键，点击run即可运行代码，至此教学结束。\n",
    "\n",
    "<img src=\"9.png\">\n",
    "<img src=\"10.png\">"
   ]
  }
 ],
 "metadata": {
  "kernelspec": {
   "display_name": "Python 3",
   "language": "python",
   "name": "python3"
  },
  "language_info": {
   "codemirror_mode": {
    "name": "ipython",
    "version": 3
   },
   "file_extension": ".py",
   "mimetype": "text/x-python",
   "name": "python",
   "nbconvert_exporter": "python",
   "pygments_lexer": "ipython3",
   "version": "3.6.10"
  }
 },
 "nbformat": 4,
 "nbformat_minor": 2
}
